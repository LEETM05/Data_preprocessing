{
 "cells": [
  {
   "cell_type": "code",
   "execution_count": 6,
   "id": "f479fcbd-1f8a-483b-a3c4-178529a1d20c",
   "metadata": {},
   "outputs": [],
   "source": [
    "import os\n",
    "import cv2\n",
    "import numpy as np\n",
    "\n",
    "dirs = ['ants', 'bees']\n",
    "pixels = []\n",
    "labels = []\n",
    "\n",
    "for i, d in enumerate(dirs):\n",
    "    files = os.listdir('./data/' + d)\n",
    "\n",
    "    for f in files :\n",
    "        img = cv2.imread('./data/' + d + '/' + f,0)\n",
    "        img = cv2.resize(img, (128,128))\n",
    "        img = np.array(img).flatten().tolist()\n",
    "        pixels.append(img)\n",
    "\n",
    "        labels.append(i)"
   ]
  },
  {
   "cell_type": "code",
   "execution_count": 10,
   "id": "3c1f4087-c074-4df7-bbc2-6bf20ce42238",
   "metadata": {},
   "outputs": [
    {
     "name": "stdout",
     "output_type": "stream",
     "text": [
      "          0         1         2         3         4         5         6  \\\n",
      "0  0.549020  0.552941  0.545098  0.552941  0.545098  0.556863  0.556863   \n",
      "1  0.756863  0.831373  0.894118  0.815686  0.862745  0.866667  0.737255   \n",
      "2  0.521569  0.545098  0.549020  0.564706  0.572549  0.592157  0.588235   \n",
      "3  0.384314  0.392157  0.392157  0.396078  0.396078  0.392157  0.380392   \n",
      "4  0.290196  0.337255  0.380392  0.403922  0.407843  0.411765  0.411765   \n",
      "\n",
      "          7         8         9  ...     16375     16376     16377     16378  \\\n",
      "0  0.556863  0.552941  0.556863  ...  0.294118  0.282353  0.286275  0.274510   \n",
      "1  0.772549  0.768627  0.219608  ...  0.866667  0.890196  0.933333  0.905882   \n",
      "2  0.584314  0.580392  0.568627  ...  0.537255  0.564706  0.674510  0.541176   \n",
      "3  0.388235  0.376471  0.392157  ...  0.227451  0.156863  0.066667  0.023529   \n",
      "4  0.423529  0.450980  0.462745  ...  0.239216  0.250980  0.262745  0.274510   \n",
      "\n",
      "      16379     16380     16381     16382     16383  label  \n",
      "0  0.294118  0.286275  0.286275  0.278431  0.360784      0  \n",
      "1  0.882353  0.921569  0.945098  0.858824  0.823529      0  \n",
      "2  0.482353  0.800000  0.894118  0.611765  0.654902      0  \n",
      "3  0.035294  0.047059  0.015686  0.007843  0.007843      0  \n",
      "4  0.286275  0.294118  0.337255  0.380392  0.427451      0  \n",
      "\n",
      "[5 rows x 16385 columns]\n",
      "(157, 16385)\n"
     ]
    }
   ],
   "source": [
    "import pandas as pd\n",
    "\n",
    "pixels_df = pd.DataFrame(pixels)\n",
    "pixels_df = pixels_df / 255.0\n",
    "\n",
    "labels_df = pd.DataFrame(labels)\n",
    "labels_df = labels_df.rename(columns = {0:'label'})\n",
    "\n",
    "img_set = pd.concat([pixels_df, labels_df], axis = 1)\n",
    "print(img_set.head())\n",
    "print(img_set.shape)"
   ]
  },
  {
   "cell_type": "code",
   "execution_count": null,
   "id": "90e68b7c-181f-4a6b-82f3-629c5a475fc1",
   "metadata": {},
   "outputs": [],
   "source": []
  }
 ],
 "metadata": {
  "kernelspec": {
   "display_name": "Python 3 (ipykernel)",
   "language": "python",
   "name": "python3"
  },
  "language_info": {
   "codemirror_mode": {
    "name": "ipython",
    "version": 3
   },
   "file_extension": ".py",
   "mimetype": "text/x-python",
   "name": "python",
   "nbconvert_exporter": "python",
   "pygments_lexer": "ipython3",
   "version": "3.11.5"
  }
 },
 "nbformat": 4,
 "nbformat_minor": 5
}
